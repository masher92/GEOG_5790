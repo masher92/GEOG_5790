{
 "cells": [
  {
   "cell_type": "code",
   "execution_count": 1,
   "metadata": {
    "collapsed": true
   },
   "outputs": [],
   "source": [
    "import pandas"
   ]
  },
  {
   "cell_type": "code",
   "execution_count": 12,
   "metadata": {
    "collapsed": false
   },
   "outputs": [],
   "source": [
    "# Read in data\n",
    "data = pandas.read_csv('data/gapminder_gdp_oceania.csv')\n",
    "#print(data)"
   ]
  },
  {
   "cell_type": "code",
   "execution_count": 4,
   "metadata": {
    "collapsed": false
   },
   "outputs": [
    {
     "name": "stdout",
     "output_type": "stream",
     "text": [
      "             gdpPercap_1952  gdpPercap_1957  gdpPercap_1962  gdpPercap_1967  \\\n",
      "country                                                                       \n",
      "Australia       10039.59564     10949.64959     12217.22686     14526.12465   \n",
      "New Zealand     10556.57566     12247.39532     13175.67800     14463.91893   \n",
      "\n",
      "             gdpPercap_1972  gdpPercap_1977  gdpPercap_1982  gdpPercap_1987  \\\n",
      "country                                                                       \n",
      "Australia       16788.62948     18334.19751     19477.00928     21888.88903   \n",
      "New Zealand     16046.03728     16233.71770     17632.41040     19007.19129   \n",
      "\n",
      "             gdpPercap_1992  gdpPercap_1997  gdpPercap_2002  gdpPercap_2007  \n",
      "country                                                                      \n",
      "Australia       23424.76683     26997.93657     30687.75473     34435.36744  \n",
      "New Zealand     18363.32494     21050.41377     23189.80135     25185.00911  \n"
     ]
    }
   ],
   "source": [
    "# Set the country column as the rownames\n",
    "data = pandas.read_csv('data/gapminder_gdp_oceania.csv', index_col='country')\n",
    "print(data)"
   ]
  },
  {
   "cell_type": "code",
   "execution_count": 6,
   "metadata": {
    "collapsed": false
   },
   "outputs": [],
   "source": [
    "# Print info about the dataframe \n",
    "#data.info()"
   ]
  },
  {
   "cell_type": "code",
   "execution_count": 7,
   "metadata": {
    "collapsed": false
   },
   "outputs": [
    {
     "name": "stdout",
     "output_type": "stream",
     "text": [
      "Index(['gdpPercap_1952', 'gdpPercap_1957', 'gdpPercap_1962', 'gdpPercap_1967',\n",
      "       'gdpPercap_1972', 'gdpPercap_1977', 'gdpPercap_1982', 'gdpPercap_1987',\n",
      "       'gdpPercap_1992', 'gdpPercap_1997', 'gdpPercap_2002', 'gdpPercap_2007'],\n",
      "      dtype='object')\n"
     ]
    }
   ],
   "source": [
    "# Print column names\n",
    "print(data.columns)"
   ]
  },
  {
   "cell_type": "code",
   "execution_count": 11,
   "metadata": {
    "collapsed": false
   },
   "outputs": [],
   "source": [
    "# Transpose the dataframe and print\n",
    "#print(data.T)"
   ]
  },
  {
   "cell_type": "code",
   "execution_count": 10,
   "metadata": {
    "collapsed": false
   },
   "outputs": [],
   "source": [
    "# Get summary statistics of the numeric columns\n",
    "#print(data.describe())"
   ]
  },
  {
   "cell_type": "code",
   "execution_count": 14,
   "metadata": {
    "collapsed": false
   },
   "outputs": [],
   "source": [
    "# Read in additional data\n",
    "americas = pandas.read_csv('data/gapminder_gdp_americas.csv', index_col='country')\n",
    "# Print summary statistics\n",
    "#print(americas.describe())"
   ]
  },
  {
   "cell_type": "code",
   "execution_count": 24,
   "metadata": {
    "collapsed": false
   },
   "outputs": [],
   "source": [
    "# Look at last 5 rows\n",
    "#americas.tail(n=5)\n",
    "# Look at last 5 columns (as rows) by first transposing\n",
    "#americas.T.tail(n=3)"
   ]
  },
  {
   "cell_type": "code",
   "execution_count": 26,
   "metadata": {
    "collapsed": false
   },
   "outputs": [],
   "source": [
    "# To write a file back to csv\n",
    "americas.to_csv('processed.csv')"
   ]
  },
  {
   "cell_type": "code",
   "execution_count": 33,
   "metadata": {
    "collapsed": false
   },
   "outputs": [
    {
     "name": "stdout",
     "output_type": "stream",
     "text": [
      "6137.076492\n"
     ]
    }
   ],
   "source": [
    "# Print data by entry position, e.g. print data in the first row and first column\n",
    "data = pandas.read_csv('data/gapminder_gdp_europe.csv', index_col='country')\n",
    "print(data.iloc[1, 0])"
   ]
  },
  {
   "cell_type": "code",
   "execution_count": 39,
   "metadata": {
    "collapsed": false
   },
   "outputs": [
    {
     "name": "stdout",
     "output_type": "stream",
     "text": [
      "1601.056136\n"
     ]
    }
   ],
   "source": [
    "# Print data by label\n",
    "print(data.loc[\"Albania\", \"gdpPercap_1952\"])\n",
    "# Or using ':' to mean all columns or all rows\n",
    "#print(data.loc[\"Albania\", :])\n",
    "#print(data.loc[:, \"gdpPercap_1952\"])"
   ]
  },
  {
   "cell_type": "code",
   "execution_count": 40,
   "metadata": {
    "collapsed": false
   },
   "outputs": [
    {
     "name": "stdout",
     "output_type": "stream",
     "text": [
      "             gdpPercap_1962  gdpPercap_1967  gdpPercap_1972\n",
      "country                                                    \n",
      "Italy           8243.582340    10022.401310    12269.273780\n",
      "Montenegro      4649.593785     5907.850937     7778.414017\n",
      "Netherlands    12790.849560    15363.251360    18794.745670\n",
      "Norway         13450.401510    16361.876470    18965.055510\n",
      "Poland          5338.752143     6557.152776     8006.506993\n"
     ]
    }
   ],
   "source": [
    "# Can also select multiple columns or rows (this includes values listed at both ends)\n",
    "print(data.loc['Italy':'Poland', 'gdpPercap_1962':'gdpPercap_1972'])"
   ]
  },
  {
   "cell_type": "code",
   "execution_count": 41,
   "metadata": {
    "collapsed": false
   },
   "outputs": [
    {
     "name": "stdout",
     "output_type": "stream",
     "text": [
      "gdpPercap_1962    13450.40151\n",
      "gdpPercap_1967    16361.87647\n",
      "gdpPercap_1972    18965.05551\n",
      "dtype: float64\n"
     ]
    }
   ],
   "source": [
    "# Can perform operation on slicing operation\n",
    "print(data.loc['Italy':'Poland', 'gdpPercap_1962':'gdpPercap_1972'].max())"
   ]
  },
  {
   "cell_type": "code",
   "execution_count": 42,
   "metadata": {
    "collapsed": false
   },
   "outputs": [
    {
     "name": "stdout",
     "output_type": "stream",
     "text": [
      "Subset of data:\n",
      "              gdpPercap_1962  gdpPercap_1967  gdpPercap_1972\n",
      "country                                                    \n",
      "Italy           8243.582340    10022.401310    12269.273780\n",
      "Montenegro      4649.593785     5907.850937     7778.414017\n",
      "Netherlands    12790.849560    15363.251360    18794.745670\n",
      "Norway         13450.401510    16361.876470    18965.055510\n",
      "Poland          5338.752143     6557.152776     8006.506993\n",
      "\n",
      "Where are values large?\n",
      "              gdpPercap_1962  gdpPercap_1967  gdpPercap_1972\n",
      "country                                                    \n",
      "Italy                 False            True            True\n",
      "Montenegro            False           False           False\n",
      "Netherlands            True            True            True\n",
      "Norway                 True            True            True\n",
      "Poland                False           False           False\n"
     ]
    }
   ],
   "source": [
    "# Use a subset of data to keep output readable.\n",
    "subset = data.loc['Italy':'Poland', 'gdpPercap_1962':'gdpPercap_1972']\n",
    "print('Subset of data:\\n', subset)\n",
    "\n",
    "# Which values were greater than 10000 ?\n",
    "print('\\nWhere are values large?\\n', subset > 10000)"
   ]
  },
  {
   "cell_type": "code",
   "execution_count": 43,
   "metadata": {
    "collapsed": false
   },
   "outputs": [
    {
     "name": "stdout",
     "output_type": "stream",
     "text": [
      "             gdpPercap_1962  gdpPercap_1967  gdpPercap_1972\n",
      "country                                                    \n",
      "Italy                   NaN     10022.40131     12269.27378\n",
      "Montenegro              NaN             NaN             NaN\n",
      "Netherlands     12790.84956     15363.25136     18794.74567\n",
      "Norway          13450.40151     16361.87647     18965.05551\n",
      "Poland                  NaN             NaN             NaN\n"
     ]
    }
   ],
   "source": [
    "# Can hide numbers meeting certain conditions from a dataframs\n",
    "mask = subset > 10000\n",
    "print(subset[mask])"
   ]
  },
  {
   "cell_type": "code",
   "execution_count": null,
   "metadata": {
    "collapsed": true
   },
   "outputs": [],
   "source": []
  }
 ],
 "metadata": {
  "kernelspec": {
   "display_name": "Python 3",
   "language": "python",
   "name": "python3"
  },
  "language_info": {
   "codemirror_mode": {
    "name": "ipython",
    "version": 3
   },
   "file_extension": ".py",
   "mimetype": "text/x-python",
   "name": "python",
   "nbconvert_exporter": "python",
   "pygments_lexer": "ipython3",
   "version": "3.6.0"
  }
 },
 "nbformat": 4,
 "nbformat_minor": 2
}
