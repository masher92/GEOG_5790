{
 "cells": [
  {
   "cell_type": "code",
   "execution_count": 12,
   "metadata": {},
   "outputs": [
    {
     "ename": "ERROR",
     "evalue": "Error in library(leaflet): there is no package called 'leaflet'\n",
     "output_type": "error",
     "traceback": [
      "Error in library(leaflet): there is no package called 'leaflet'\nTraceback:\n",
      "1. library(leaflet)",
      "2. stop(txt, domain = NA)"
     ]
    }
   ],
   "source": [
    "#install.packages(\"raster\")\n",
    "#install.packages(\"rgdal\")\n",
    "#library(raster)\n",
    "#library (rgdal)\n",
    "#library(leaflet)\n",
    "dtm <-raster(\"E:/Msc/Dissertation/Code/Data/Input/DTM/Dales_Nidderdale_DTM_5m.tif\")\n",
    "slope <-raster(\"E:/Msc/Dissertation/Code/Data/Input/DTM/Dales_Nidderdale_Moorland_Line_Slope_5m.tif\")"
   ]
  },
  {
   "cell_type": "code",
   "execution_count": 10,
   "metadata": {},
   "outputs": [
    {
     "name": "stdout",
     "output_type": "stream",
     "text": [
      "OGR data source with driver: ESRI Shapefile \n",
      "Source: \"E:\\Msc\\Dissertation\\Peat\\Data_Analysis\\1.original_data\\Peat_Depth_Data_180824\\Peat_Points\", layer: \"Humberstone_Peat_Depth_Points\"\n",
      "with 712 features\n",
      "It has 3 fields\n",
      "Integer64 fields read as strings:  ID \n"
     ]
    }
   ],
   "source": [
    "shp <- readOGR(dsn = \"E:/Msc/Dissertation/Peat/Data_Analysis/1.original_data/Peat_Depth_Data_180824/Peat_Points\", layer = \"Humberstone_Peat_Depth_Points\")"
   ]
  },
  {
   "cell_type": "code",
   "execution_count": 20,
   "metadata": {},
   "outputs": [
    {
     "data": {
      "image/png": "[encoded data removed]",
      "text/plain": [
       "plot without title"
      ]
     },
     "metadata": {},
     "output_type": "display_data"
    }
   ],
   "source": [
    "r <-5"
   ]
  },
  {
   "cell_type": "code",
   "execution_count": 14,
   "metadata": {},
   "outputs": [],
   "source": [
    "print(r)"
   ]
  },
  {
   "cell_type": "code",
   "execution_count": null,
   "metadata": {},
   "outputs": [],
   "source": []
  },
  {
   "cell_type": "code",
   "execution_count": null,
   "metadata": {},
   "outputs": [],
   "source": []
  },
  {
   "cell_type": "code",
   "execution_count": null,
   "metadata": {},
   "outputs": [],
   "source": []
  }
 ],
 "metadata": {
  "kernelspec": {
   "display_name": "R",
   "language": "R",
   "name": "ir"
  },
  "language_info": {
   "codemirror_mode": "r",
   "file_extension": ".r",
   "mimetype": "text/x-r-source",
   "name": "R",
   "pygments_lexer": "r",
   "version": "3.5.1"
  }
 },
 "nbformat": 4,
 "nbformat_minor": 2
}
